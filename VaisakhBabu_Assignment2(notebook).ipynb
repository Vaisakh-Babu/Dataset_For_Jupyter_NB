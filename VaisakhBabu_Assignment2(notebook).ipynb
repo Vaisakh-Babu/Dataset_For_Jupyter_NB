{
 "cells": [
  {
   "cell_type": "markdown",
   "metadata": {},
   "source": [
    "# Assignment-2\n",
    "**By Vaisakh Babu**"
   ]
  },
  {
   "cell_type": "markdown",
   "metadata": {},
   "source": [
    "### Loading Libraries"
   ]
  },
  {
   "cell_type": "code",
   "execution_count": 1,
   "metadata": {},
   "outputs": [
    {
     "data": {
      "application/javascript": [
       "IPython.notebook.set_autosave_interval(10000)"
      ]
     },
     "metadata": {},
     "output_type": "display_data"
    },
    {
     "name": "stdout",
     "output_type": "stream",
     "text": [
      "Autosaving every 10 seconds\n"
     ]
    }
   ],
   "source": [
    "import sqlite3\n",
    "import csv\n",
    "import time\n",
    "%autosave 10"
   ]
  },
  {
   "cell_type": "markdown",
   "metadata": {},
   "source": [
    "### Checking the first few rows of the dataset"
   ]
  },
  {
   "cell_type": "code",
   "execution_count": 2,
   "metadata": {},
   "outputs": [
    {
     "name": "stdout",
     "output_type": "stream",
     "text": [
      "['id', 'gender', 'ethnicity', 'parental_level_of_education', 'lunch', 'test_preparation_course', 'math_score', 'reading_score', 'writing_score']\n",
      "['0', 'female', 'group B', \"bachelor's degree\", 'standard', 'none', '72', '72', '74']\n",
      "['1', 'female', 'group C', 'some college', 'standard', 'completed', '69', '90', '88']\n",
      "['2', 'female', 'group B', \"master's degree\", 'standard', 'none', '90', '95', '93']\n",
      "['3', 'male', 'group A', \"associate's degree\", 'free/reduced', 'none', '47', '57', '44']\n",
      "['4', 'male', 'group C', 'some college', 'standard', 'none', '76', '78', '75']\n",
      "['5', 'female', 'group B', \"associate's degree\", 'standard', 'none', '71', '83', '78']\n",
      "['6', 'female', 'group B', 'some college', 'standard', 'completed', '88', '95', '92']\n",
      "['7', 'male', 'group B', 'some college', 'free/reduced', 'none', '40', '43', '39']\n",
      "['8', 'male', 'group D', 'high school', 'free/reduced', 'completed', '64', '64', '67']\n"
     ]
    }
   ],
   "source": [
    "csvdata = csv.reader(open('StudentsPerformance1.csv'))\n",
    "head = 10\n",
    "for i in csvdata:\n",
    "    print(i)\n",
    "    head -= 1\n",
    "    if head == 0:\n",
    "        break"
   ]
  },
  {
   "cell_type": "markdown",
   "metadata": {},
   "source": [
    "#### Columns names"
   ]
  },
  {
   "cell_type": "code",
   "execution_count": 3,
   "metadata": {},
   "outputs": [
    {
     "data": {
      "text/plain": [
       "('id',\n",
       " 'gender',\n",
       " 'ethnicity',\n",
       " 'parental_level_of_education',\n",
       " 'lunch',\n",
       " 'test_preparation_course',\n",
       " 'math_score',\n",
       " 'reading_score',\n",
       " 'writing_score')"
      ]
     },
     "execution_count": 3,
     "metadata": {},
     "output_type": "execute_result"
    }
   ],
   "source": [
    "csvdata = csv.reader(open('StudentsPerformance1.csv'))\n",
    "for i in csvdata:\n",
    "    column_names = tuple(i)\n",
    "    break\n",
    "column_names"
   ]
  },
  {
   "cell_type": "markdown",
   "metadata": {},
   "source": [
    "### Creating Database and inserting the values"
   ]
  },
  {
   "cell_type": "code",
   "execution_count": 4,
   "metadata": {},
   "outputs": [
    {
     "name": "stdout",
     "output_type": "stream",
     "text": [
      "Table created with name StudentsPerformance\n",
      "\n",
      "1000 entries added to StudentsPerformance in 0.006 seconds\n",
      "\n",
      "Total number of observations in the table StudentsPerformance : 1000 \n",
      "\n",
      "The first 3 observations are: \n",
      "-----------------------------\n",
      "id\t\t\t\t: 0\n",
      "gender\t\t\t\t: female\n",
      "ethnicity\t\t\t: group B\n",
      "parental_level_of_education\t: bachelor's degree\n",
      "lunch\t\t\t\t: standard\n",
      "test_preparation_course\t\t: none\n",
      "math_score\t\t\t: 72\n",
      "reading_score\t\t\t: 72\n",
      "writing_score\t\t\t: 74\n",
      "\n",
      "\n",
      "\n",
      "id\t\t\t\t: 1\n",
      "gender\t\t\t\t: female\n",
      "ethnicity\t\t\t: group C\n",
      "parental_level_of_education\t: some college\n",
      "lunch\t\t\t\t: standard\n",
      "test_preparation_course\t\t: completed\n",
      "math_score\t\t\t: 69\n",
      "reading_score\t\t\t: 90\n",
      "writing_score\t\t\t: 88\n",
      "\n",
      "\n",
      "\n",
      "id\t\t\t\t: 2\n",
      "gender\t\t\t\t: female\n",
      "ethnicity\t\t\t: group B\n",
      "parental_level_of_education\t: master's degree\n",
      "lunch\t\t\t\t: standard\n",
      "test_preparation_course\t\t: none\n",
      "math_score\t\t\t: 90\n",
      "reading_score\t\t\t: 95\n",
      "writing_score\t\t\t: 93\n",
      "\n",
      "\n",
      "\n"
     ]
    }
   ],
   "source": [
    "# Fetching Data\n",
    "csvdata = csv.reader(open('StudentsPerformance1.csv'))\n",
    "\n",
    "# Establishing connection\n",
    "con = sqlite3.connect('db1.db')\n",
    "cur = con.cursor()\n",
    "\n",
    "# Creating table\n",
    "cur.execute(\"DROP TABLE if exists StudentsPerformance\")\n",
    "cur.execute(\"CREATE TABLE StudentsPerformance(id INT,gender TEXT,ethnicity TEXT,parental_level_of_education TEXT,lunch\\\n",
    "                TEXT,test_preparation_course TEXT,math_score INT,reading_score INT,writing_score INT)\")\n",
    "print(\"Table created with name StudentsPerformance\\n\")\n",
    "\n",
    "# Inserting values to the table\n",
    "count = 0\n",
    "t0 = time.time()\n",
    "for i in csvdata:\n",
    "    if str.isdigit(i[0]):\n",
    "        cur.execute(\"INSERT INTO StudentsPerformance VALUES (?,?,?,?,?,?,?,?,?)\",tuple(c for c in i))\n",
    "        count += 1\n",
    "t1 = time.time()    \n",
    "con.commit()\n",
    "print('%s entries added to StudentsPerformance in %s seconds\\n'%(count,round(t1-t0,3)))\n",
    "\n",
    "# Printing the total number of entries in the table\n",
    "cur.execute(\"SELECT count(*) FROM StudentsPerformance\")\n",
    "print(\"Total number of observations in the table StudentsPerformance : %s \\n\"%cur.fetchall()[0][0])\n",
    "\n",
    "# Displaying The first few observations in the database table\n",
    "head = 3  # Number of observations to be displayed\n",
    "res = cur.execute(\"SELECT * FROM StudentsPerformance LIMIT ?\",(head,))\n",
    "l = res.fetchall()\n",
    "print(f\"The first {head} observations are: \\n-----------------------------\")\n",
    "for i in l:\n",
    "    print(\"id\\t\\t\\t\\t: %s\\ngender\\t\\t\\t\\t: %s\\nethnicity\\t\\t\\t: %s\\nparental_level_of_education\\t: %s\\nlunch\\t\\t\\t\\t: %s\\n\\\n",
    "test_preparation_course\\t\\t: %s\\nmath_score\\t\\t\\t: %s\\nreading_score\\t\\t\\t: %s\\nwriting_score\\t\\t\\t: %s\\n\"%tuple(c for c in i))\n",
    "    print('\\n')\n",
    "    \n",
    "# Closing the connection\n",
    "con.close()"
   ]
  },
  {
   "cell_type": "markdown",
   "metadata": {},
   "source": [
    "### Updating values in the database table"
   ]
  },
  {
   "cell_type": "code",
   "execution_count": 5,
   "metadata": {},
   "outputs": [
    {
     "name": "stdout",
     "output_type": "stream",
     "text": [
      "id\t\t\t\t: 2\n",
      "gender\t\t\t\t: female\n",
      "ethnicity\t\t\t: group B\n",
      "parental_level_of_education\t: master's degree\n",
      "lunch\t\t\t\t: standard\n",
      "test_preparation_course\t\t: completed\n",
      "math_score\t\t\t: 90\n",
      "reading_score\t\t\t: 95\n",
      "writing_score\t\t\t: 93\n",
      "\n",
      "\n",
      "\n"
     ]
    }
   ],
   "source": [
    "con = sqlite3.connect('db1.db')\n",
    "cur = con.cursor()\n",
    "cur.execute(\"UPDATE StudentsPerformance SET test_preparation_course = 'completed' WHERE id = 2\")\n",
    "con.commit()\n",
    "res = cur.execute(\"SELECT * from StudentsPerformance WHERE id = 2\")\n",
    "l1 = res.fetchall()\n",
    "for i in l1:\n",
    "    print(\"id\\t\\t\\t\\t: %s\\ngender\\t\\t\\t\\t: %s\\nethnicity\\t\\t\\t: %s\\nparental_level_of_education\\t: %s\\nlunch\\t\\t\\t\\t: %s\\n\\\n",
    "test_preparation_course\\t\\t: %s\\nmath_score\\t\\t\\t: %s\\nreading_score\\t\\t\\t: %s\\nwriting_score\\t\\t\\t: %s\\n\"%tuple(c for c in i))\n",
    "    print('\\n')\n",
    "con.close()"
   ]
  }
 ],
 "metadata": {
  "kernelspec": {
   "display_name": "Python 3",
   "language": "python",
   "name": "python3"
  },
  "language_info": {
   "codemirror_mode": {
    "name": "ipython",
    "version": 3
   },
   "file_extension": ".py",
   "mimetype": "text/x-python",
   "name": "python",
   "nbconvert_exporter": "python",
   "pygments_lexer": "ipython3",
   "version": "3.8.5"
  }
 },
 "nbformat": 4,
 "nbformat_minor": 4
}
